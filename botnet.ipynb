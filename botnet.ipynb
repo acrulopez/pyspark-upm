{
 "cells": [
  {
   "cell_type": "markdown",
   "id": "d5257c32-49e6-4d32-a585-928c824b518d",
   "metadata": {},
   "source": [
    "## Initializing Spark"
   ]
  },
  {
   "cell_type": "code",
   "execution_count": 1,
   "id": "f98bd2e8-702b-49a7-bdc6-699f089aa556",
   "metadata": {},
   "outputs": [
    {
     "name": "stdout",
     "output_type": "stream",
     "text": [
      "22/11/02 15:00:54 WARN Utils: Your hostname, Alexs-MacBook-Air.local resolves to a loopback address: 127.0.0.1; using 192.168.1.131 instead (on interface en0)\n",
      "22/11/02 15:00:54 WARN Utils: Set SPARK_LOCAL_IP if you need to bind to another address\n"
     ]
    },
    {
     "name": "stderr",
     "output_type": "stream",
     "text": [
      "Setting default log level to \"WARN\".\n",
      "To adjust logging level use sc.setLogLevel(newLevel). For SparkR, use setLogLevel(newLevel).\n"
     ]
    },
    {
     "name": "stdout",
     "output_type": "stream",
     "text": [
      "22/11/02 15:00:55 WARN NativeCodeLoader: Unable to load native-hadoop library for your platform... using builtin-java classes where applicable\n",
      "22/11/02 15:00:56 WARN Utils: Service 'SparkUI' could not bind on port 4040. Attempting port 4041.\n"
     ]
    }
   ],
   "source": [
    "from pyspark import SparkConf, SparkContext\n",
    "\n",
    "conf = SparkConf().setAppName(\"appName\").setMaster(\"local\")\n",
    "sc = SparkContext()"
   ]
  },
  {
   "cell_type": "code",
   "execution_count": 2,
   "id": "3c76d078-256b-4047-bf9b-746444d50afa",
   "metadata": {},
   "outputs": [],
   "source": [
    "import os\n",
    "os.environ[\"PYTHONHASHSEED\"]=str('myseed') # Set seed to maintain reproducibility accross clusters"
   ]
  },
  {
   "cell_type": "markdown",
   "id": "6d768aaa-d8df-49ce-a314-4dd902c2c318",
   "metadata": {},
   "source": [
    "## Loading data"
   ]
  },
  {
   "cell_type": "code",
   "execution_count": 3,
   "id": "c576be6c-ce9f-4a7b-befb-0cbffdf4a585",
   "metadata": {},
   "outputs": [],
   "source": [
    "data_rdd = sc.textFile(\"./data/botnet_tot_syn_l.csv\")"
   ]
  },
  {
   "cell_type": "code",
   "execution_count": 4,
   "id": "a81f1b92-5461-4f15-a768-a1c7e78f41b4",
   "metadata": {},
   "outputs": [
    {
     "name": "stderr",
     "output_type": "stream",
     "text": [
      "                                                                                \r"
     ]
    },
    {
     "data": {
      "text/plain": [
       "1000000"
      ]
     },
     "execution_count": 4,
     "metadata": {},
     "output_type": "execute_result"
    }
   ],
   "source": [
    "data_rdd.count()"
   ]
  },
  {
   "cell_type": "code",
   "execution_count": 5,
   "id": "e91b7b5b-8f59-4cb5-b1da-757c8201b1de",
   "metadata": {},
   "outputs": [
    {
     "data": {
      "text/plain": [
       "['9.012784269851088936e+00,1.672999976689183313e+03,2.199998846107087047e+01,9.999997452701503420e-01,6.199988768910407089e+01,6.999980788311222568e+01,1.300000023299318563e+01,2.999999978593413275e+00,1.990000019239598430e+02,2.468369573014893532e+09,2.468372549224571228e+09 ,1']"
      ]
     },
     "execution_count": 5,
     "metadata": {},
     "output_type": "execute_result"
    }
   ],
   "source": [
    "data_rdd.take(1)"
   ]
  },
  {
   "cell_type": "markdown",
   "id": "1c39f5d1-05ca-44b3-b48e-585e5d6dce6e",
   "metadata": {},
   "source": [
    "## Create RDDs"
   ]
  },
  {
   "cell_type": "code",
   "execution_count": 6,
   "id": "1f76ba04-1fc7-474f-8e31-b626d078cd01",
   "metadata": {},
   "outputs": [],
   "source": [
    "def create_rdd(csv_line):\n",
    "    numbers = csv_line.replace(\" \",\"\").split(\",\")\n",
    "    numbers = [float(number) for number in numbers]\n",
    "    aux = numbers[-1]\n",
    "    numbers = numbers[:-1]\n",
    "    return [numbers, aux]"
   ]
  },
  {
   "cell_type": "code",
   "execution_count": 7,
   "id": "a1a80df5-82c5-4ec0-992d-1588a3b0f989",
   "metadata": {},
   "outputs": [
    {
     "data": {
      "text/plain": [
       "[[[9.012784269851089,\n",
       "   1672.9999766891833,\n",
       "   21.99998846107087,\n",
       "   0.9999997452701503,\n",
       "   61.99988768910407,\n",
       "   69.99980788311223,\n",
       "   13.000000232993186,\n",
       "   2.9999999785934133,\n",
       "   199.00000192395984,\n",
       "   2468369573.0148935,\n",
       "   2468372549.224571],\n",
       "  1.0]]"
      ]
     },
     "execution_count": 7,
     "metadata": {},
     "output_type": "execute_result"
    }
   ],
   "source": [
    "separated_rdd = data_rdd.map(create_rdd)\n",
    "separated_rdd.take(1)"
   ]
  },
  {
   "cell_type": "markdown",
   "id": "f6fff866-75c4-442d-a665-c11570c64987",
   "metadata": {},
   "source": [
    "### Calculate mean by column"
   ]
  },
  {
   "cell_type": "code",
   "execution_count": 8,
   "id": "6610a590-ac76-4670-b13d-bb9327633856",
   "metadata": {},
   "outputs": [
    {
     "name": "stderr",
     "output_type": "stream",
     "text": [
      "                                                                                \r"
     ]
    },
    {
     "data": {
      "text/plain": [
       "8"
      ]
     },
     "execution_count": 8,
     "metadata": {},
     "output_type": "execute_result"
    }
   ],
   "source": [
    "separated_rdd = separated_rdd.sample(False, 0.00001) # Let's use a subset in order to code faster\n",
    "row_num = separated_rdd.count()\n",
    "row_num"
   ]
  },
  {
   "cell_type": "code",
   "execution_count": 9,
   "id": "e69442a4-12be-414e-b4dd-6a3acdf16215",
   "metadata": {
    "tags": []
   },
   "outputs": [
    {
     "name": "stderr",
     "output_type": "stream",
     "text": [
      "                                                                                \r"
     ]
    },
    {
     "data": {
      "text/plain": [
       "[[[2692.4681590519417,\n",
       "   3558.186754897253,\n",
       "   442.9999919600367,\n",
       "   0.9999997452701503,\n",
       "   61.99988768910407,\n",
       "   69.99980788311223,\n",
       "   12.99999995866449,\n",
       "   -2.35688187855132e-08,\n",
       "   8.00000498340475,\n",
       "   2468369572.9931583,\n",
       "   3645423789.1408367],\n",
       "  1.0],\n",
       " [[0.15721432914011757,\n",
       "   40802.09045176012,\n",
       "   53.000260213743786,\n",
       "   507008.67686660576,\n",
       "   5100.095715924603,\n",
       "   82.99988759205826,\n",
       "   -1.653359582576286e-07,\n",
       "   2.999999985175615,\n",
       "   186.99999400676145,\n",
       "   2468370084.563616,\n",
       "   2468368394.7593513],\n",
       "  0.0]]"
      ]
     },
     "execution_count": 9,
     "metadata": {},
     "output_type": "execute_result"
    }
   ],
   "source": [
    "separated_rdd.take(2)"
   ]
  },
  {
   "cell_type": "code",
   "execution_count": 10,
   "id": "48eb4f8f-036b-42ac-ac0c-c0ad9406b019",
   "metadata": {
    "tags": []
   },
   "outputs": [
    {
     "name": "stderr",
     "output_type": "stream",
     "text": [
      "                                                                                \r"
     ]
    },
    {
     "data": {
      "text/plain": [
       "[1665.7478158707154,\n",
       " 22011.995103410634,\n",
       " 12728.159328252657,\n",
       " 126448.59168116396,\n",
       " 17347161.44429345,\n",
       " 10306.36265129139,\n",
       " 9.499999942180999,\n",
       " 1.6249999936165969,\n",
       " 104.99999911448208,\n",
       " 2084039885.8918612]"
      ]
     },
     "execution_count": 10,
     "metadata": {},
     "output_type": "execute_result"
    }
   ],
   "source": [
    "means = sc.broadcast([x/row_num for x in separated_rdd.map(lambda x: x[0]).reduce(lambda x,y: [a+b for a,b in zip(x,y)])])\n",
    "means.value[0:10]"
   ]
  },
  {
   "cell_type": "markdown",
   "id": "daf82541-f849-470a-8bad-f9a8daa4148a",
   "metadata": {},
   "source": [
    "### Calculate stdev by column"
   ]
  },
  {
   "cell_type": "code",
   "execution_count": 16,
   "id": "c79f9943-dcd0-48fe-89fb-20a070760643",
   "metadata": {},
   "outputs": [],
   "source": [
    "import math"
   ]
  },
  {
   "cell_type": "code",
   "execution_count": 17,
   "id": "915fcf3e-a8af-4322-9c9b-afe67bf544d9",
   "metadata": {
    "tags": []
   },
   "outputs": [
    {
     "name": "stderr",
     "output_type": "stream",
     "text": [
      "                                                                                \r"
     ]
    },
    {
     "data": {
      "text/plain": [
       "[1684.3453639470222,\n",
       " 20551.577746042276,\n",
       " 21377.156083722966,\n",
       " 219014.49903268623,\n",
       " 45879790.38488994,\n",
       " 27019.39556724539,\n",
       " 5.500000060923014,\n",
       " 2.1758619192876982,\n",
       " 99.38561017301706,\n",
       " 669916979.4014223]"
      ]
     },
     "execution_count": 17,
     "metadata": {},
     "output_type": "execute_result"
    }
   ],
   "source": [
    "stdevs = sc.broadcast([math.sqrt(x/row_num) for x in separated_rdd\n",
    "                          .map(lambda x: [(a-means.value[it])**2 for it,a in enumerate(x[0])])\n",
    "                          .reduce(lambda x,y: [a+b for a,b in zip(x,y)])])\n",
    "stdevs.value[0:10]"
   ]
  },
  {
   "cell_type": "markdown",
   "id": "285a5f59-00f0-4fb2-bab3-da2a09852c86",
   "metadata": {},
   "source": [
    "### Normalize"
   ]
  },
  {
   "cell_type": "code",
   "execution_count": 18,
   "id": "0bb1beaf-4c9a-4e62-9d8b-4e3007239d77",
   "metadata": {},
   "outputs": [
    {
     "name": "stderr",
     "output_type": "stream",
     "text": [
      "                                                                                \r"
     ]
    },
    {
     "data": {
      "text/plain": [
       "[[[0.6095664019730812,\n",
       "   -0.8979266008940422,\n",
       "   -0.5746863281616216,\n",
       "   -0.5773480396955243,\n",
       "   -0.3780989254501664,\n",
       "   -0.3788523994895519,\n",
       "   0.6363636323116911,\n",
       "   -0.7468304871650056,\n",
       "   -0.9759963636809526,\n",
       "   0.5736974862835984,\n",
       "   0.7396902364820193],\n",
       "  1.0]]"
      ]
     },
     "execution_count": 18,
     "metadata": {},
     "output_type": "execute_result"
    }
   ],
   "source": [
    "normalized_rdd = separated_rdd.map(lambda x: [[(a-means.value[it])/stdevs.value[it] for it,a in enumerate(x[0])], x[1]])\n",
    "normalized_rdd.take(1)"
   ]
  },
  {
   "cell_type": "markdown",
   "id": "e6d28a6f-1d9c-4a7b-afb1-89814175a9fe",
   "metadata": {},
   "source": [
    "### Check mean and variances"
   ]
  },
  {
   "cell_type": "code",
   "execution_count": 19,
   "id": "2c3c0af8-4006-4ea1-ae48-b96a044dbfec",
   "metadata": {},
   "outputs": [
    {
     "name": "stderr",
     "output_type": "stream",
     "text": [
      "                                                                                \r"
     ]
    },
    {
     "data": {
      "text/plain": [
       "[-1.1102230246251565e-16,\n",
       " 5.551115123125783e-17,\n",
       " 5.854691731421724e-17,\n",
       " -5.551115123125783e-17,\n",
       " 2.7755575615628914e-17,\n",
       " 4.163336342344337e-17,\n",
       " 2.498001805406602e-16,\n",
       " -5.551115123125783e-17,\n",
       " 8.326672684688674e-17,\n",
       " 2.220446049250313e-16]"
      ]
     },
     "execution_count": 19,
     "metadata": {},
     "output_type": "execute_result"
    }
   ],
   "source": [
    "normalized_means = sc.broadcast([x/row_num for x in normalized_rdd.map(lambda x: x[0]).reduce(lambda x,y: [a+b for a,b in zip(x,y)])])\n",
    "normalized_means.value[0:10]"
   ]
  },
  {
   "cell_type": "code",
   "execution_count": 20,
   "id": "74f28c4d-31e7-46bc-ae2b-118065e30d80",
   "metadata": {},
   "outputs": [
    {
     "name": "stderr",
     "output_type": "stream",
     "text": [
      "                                                                                \r"
     ]
    },
    {
     "data": {
      "text/plain": [
       "[0.9999999999999999, 1.0, 1.0, 1.0, 1.0, 1.0, 1.0, 1.0, 1.0, 1.0]"
      ]
     },
     "execution_count": 20,
     "metadata": {},
     "output_type": "execute_result"
    }
   ],
   "source": [
    "normalized_stdevs = [math.sqrt(x/row_num) for x in normalized_rdd\n",
    "                          .map(lambda x: [(a-normalized_means.value[it])**2 for it,a in enumerate(x[0])])\n",
    "                          .reduce(lambda x,y: [a+b for a,b in zip(x,y)])]\n",
    "normalized_stdevs[0:10]"
   ]
  },
  {
   "cell_type": "code",
   "execution_count": null,
   "id": "953e762f-2e04-43f9-8e6f-80cc24b89769",
   "metadata": {},
   "outputs": [],
   "source": []
  }
 ],
 "metadata": {
  "kernelspec": {
   "display_name": "Python 3 (ipykernel)",
   "language": "python",
   "name": "python3"
  },
  "language_info": {
   "codemirror_mode": {
    "name": "ipython",
    "version": 3
   },
   "file_extension": ".py",
   "mimetype": "text/x-python",
   "name": "python",
   "nbconvert_exporter": "python",
   "pygments_lexer": "ipython3",
   "version": "3.7.10"
  }
 },
 "nbformat": 4,
 "nbformat_minor": 5
}
