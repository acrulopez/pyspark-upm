{
 "cells": [
  {
   "cell_type": "markdown",
   "id": "14cb0f1b-ccbd-49d3-9d63-32f74b8c5d31",
   "metadata": {},
   "source": [
    "## Initializing Spark"
   ]
  },
  {
   "cell_type": "code",
   "execution_count": 1,
   "id": "f542d1b6-688d-40ce-9f8d-339a5cd302f9",
   "metadata": {},
   "outputs": [
    {
     "name": "stdout",
     "output_type": "stream",
     "text": [
      "22/10/26 18:17:35 WARN Utils: Your hostname, Alexs-MacBook-Air.local resolves to a loopback address: 127.0.0.1; using 10.156.3.142 instead (on interface en0)\n",
      "22/10/26 18:17:35 WARN Utils: Set SPARK_LOCAL_IP if you need to bind to another address\n"
     ]
    },
    {
     "name": "stderr",
     "output_type": "stream",
     "text": [
      "Setting default log level to \"WARN\".\n",
      "To adjust logging level use sc.setLogLevel(newLevel). For SparkR, use setLogLevel(newLevel).\n"
     ]
    },
    {
     "name": "stdout",
     "output_type": "stream",
     "text": [
      "22/10/26 18:17:36 WARN NativeCodeLoader: Unable to load native-hadoop library for your platform... using builtin-java classes where applicable\n",
      "22/10/26 18:17:37 WARN Utils: Service 'SparkUI' could not bind on port 4040. Attempting port 4041.\n"
     ]
    }
   ],
   "source": [
    "from pyspark import SparkConf, SparkContext\n",
    "\n",
    "conf = SparkConf().setAppName(\"appName\").setMaster(\"local\")\n",
    "sc = SparkContext()"
   ]
  },
  {
   "cell_type": "markdown",
   "id": "dcdbbf8f-10f6-4607-84c3-bdcce2399d10",
   "metadata": {},
   "source": [
    "## Loading data"
   ]
  },
  {
   "cell_type": "code",
   "execution_count": 25,
   "id": "0189b6e5-8e34-45b6-86ea-6f28f80bf687",
   "metadata": {},
   "outputs": [],
   "source": [
    "data_rdd = sc.textFile(\"./data/data_ok.csv\")"
   ]
  },
  {
   "cell_type": "code",
   "execution_count": 28,
   "id": "d677027b-189b-413d-a5b7-90ea733558fe",
   "metadata": {},
   "outputs": [
    {
     "data": {
      "text/plain": [
       "['18.0 1526.0 12.0 8377.0 1.0 7.0 1460.0 240.0 38.0 46336.0 29200.0 0.0 1.0 9.0 1332.0 1453.0 66.0 29696.0 26400.0 0.0 14.049179621571296 4637.634193080685 71.16666666666667 703.0 0.0 151.81657426718016 114.44444444444444 703.0 0.0 182.97061762365087 177.91666666666666 1016.0 0.0 333.0308940457159 639.5 1271.0 0.0 475.7358335603209 310.0 703.0 101.0 202.27868564598364 18.0 1526.0 13.0 9845.0 1.0 7.0 1460.0 240.0 38.0 46336.0 29200.0 0.0 1.0 9.0 1332.0 1468.0 66.0 29696.0 26400.0 0.0 14.51397157040704 5323.818410551563 68.90322580645162 703.0 0.0 149.86151776130927 114.44444444444444 703.0 0.0 182.97061762365087 164.30769230769232 1016.0 0.0 323.420037582799 639.5 1271.0 0.0 475.7358335603209 310.0 703.0 101.0 202.27868564598364 18.0 1526.0 14.0 11165.0 1.0 7.0 1460.0 240.0 38.0 46336.0 29200.0 0.0 1.0 9.0 1332.0 1468.0 66.0 29696.0 26400.0 0.0 14.980565057551118 5941.198473293163 66.75 703.0 0.0 147.98775287164813 114.44444444444444 703.0 0.0 182.97061762365087 152.57142857142858 1016.0 0.0 314.5149813115232 639.5 1271.0 0.0 475.7358335603209 310.0 703.0 101.0 202.27868564598364 18.0 1526.0 15.0 12633.0 1.0 7.0 1460.0 240.0 38.0 46336.0 29200.0 0.0 1.0 9.0 1332.0 1468.0 66.0 29696.0 26400.0 0.0 15.444868372279362 6626.784584336469 64.72727272727273 703.0 0.0 146.1767864353365 114.44444444444444 703.0 0.0 182.97061762365087 142.4 1016.0 0.0 306.22449281532005 639.5 1271.0 0.0 475.7358335603209 310.0 703.0 101.0 202.27868564598364 18.0 1526.0 16.0 13953.0 1.0 7.0 1460.0 240.0 38.0 46336.0 29200.0 0.0 1.0 9.0 1332.0 1468.0 66.0 29696.0 26400.0 0.0 15.909305727256479 7242.945392711854 62.85294117647059 703.0 0.0 144.413037612696 114.44444444444444 703.0 0.0 182.97061762365087 133.5625 1016.0 0.0 298.46963177809226 639.5 1271.0 0.0 475.7358335603209 310.0 703.0 101.0 202.27868564598364 0']"
      ]
     },
     "execution_count": 28,
     "metadata": {},
     "output_type": "execute_result"
    }
   ],
   "source": [
    "data_rdd.take(1)"
   ]
  },
  {
   "cell_type": "markdown",
   "id": "bef6f51a-c260-4b8d-813a-5ecd3d7d4a96",
   "metadata": {},
   "source": [
    "# V1"
   ]
  },
  {
   "cell_type": "code",
   "execution_count": 32,
   "id": "16f685c0-03b8-41a4-85b6-8676edab66b9",
   "metadata": {},
   "outputs": [],
   "source": [
    "column_rdd = data_rdd.map(lambda line: float(line.split(\" \")[3]))"
   ]
  },
  {
   "cell_type": "code",
   "execution_count": 33,
   "id": "4efb072b-9ebd-4f2a-8b5b-ef8dada460c9",
   "metadata": {},
   "outputs": [
    {
     "data": {
      "text/plain": [
       "[8377.0,\n",
       " 29632.0,\n",
       " 107392.0,\n",
       " 188032.0,\n",
       " 261472.0,\n",
       " 342112.0,\n",
       " 5811.0,\n",
       " 9414.0,\n",
       " 8640.0,\n",
       " 1428.0]"
      ]
     },
     "execution_count": 33,
     "metadata": {},
     "output_type": "execute_result"
    }
   ],
   "source": [
    "column_rdd.take(10)"
   ]
  },
  {
   "cell_type": "markdown",
   "id": "77a3b302-f2b1-4170-a2d3-17fef689e3bb",
   "metadata": {},
   "source": [
    "The mean is:"
   ]
  },
  {
   "cell_type": "code",
   "execution_count": 57,
   "id": "3bc2dce7-a8e3-41c9-a1a2-ec118081e036",
   "metadata": {},
   "outputs": [
    {
     "data": {
      "text/plain": [
       "1409608.9152"
      ]
     },
     "execution_count": 57,
     "metadata": {},
     "output_type": "execute_result"
    }
   ],
   "source": [
    "mean_v1 = sc.broadcast(column_rdd.reduce(lambda x,y: x+y) / column_rdd.count())\n",
    "mean_v1.value"
   ]
  },
  {
   "cell_type": "markdown",
   "id": "351d16b1-5847-4e4f-aebc-58a7fd08f180",
   "metadata": {},
   "source": [
    "The variance is:"
   ]
  },
  {
   "cell_type": "code",
   "execution_count": 58,
   "id": "e67edcda-335f-4b06-a612-672f176ff318",
   "metadata": {},
   "outputs": [
    {
     "data": {
      "text/plain": [
       "5883755024032.205"
      ]
     },
     "execution_count": 58,
     "metadata": {},
     "output_type": "execute_result"
    }
   ],
   "source": [
    "variance_v1 = column_rdd.map(lambda x: (x- mean_v1.value)**2).reduce(lambda x,y: x+y) / column_rdd.count()\n",
    "variance_v1"
   ]
  },
  {
   "cell_type": "markdown",
   "id": "9d585db4-8c09-4047-9d61-574c5f8e2a28",
   "metadata": {},
   "source": [
    "# V2"
   ]
  },
  {
   "cell_type": "code",
   "execution_count": 61,
   "id": "3a2a63dd-8b62-4d67-bc1c-0524f19650e8",
   "metadata": {},
   "outputs": [],
   "source": [
    "import numpy as np"
   ]
  },
  {
   "cell_type": "code",
   "execution_count": 65,
   "id": "53438052-747a-4227-9101-0f2d256c5213",
   "metadata": {},
   "outputs": [],
   "source": [
    "data_nparray = np.array(column_rdd.collect())"
   ]
  },
  {
   "cell_type": "code",
   "execution_count": 66,
   "id": "3f1f562b-6c73-4f67-916f-0a0a30602a8e",
   "metadata": {},
   "outputs": [
    {
     "data": {
      "text/plain": [
       "1409608.9152"
      ]
     },
     "execution_count": 66,
     "metadata": {},
     "output_type": "execute_result"
    }
   ],
   "source": [
    "data_nparray.mean()"
   ]
  },
  {
   "cell_type": "code",
   "execution_count": 68,
   "id": "ba1d421e-90b3-4026-9c94-cae936678e5d",
   "metadata": {},
   "outputs": [
    {
     "data": {
      "text/plain": [
       "5883755024032.192"
      ]
     },
     "execution_count": 68,
     "metadata": {},
     "output_type": "execute_result"
    }
   ],
   "source": [
    "data_nparray.var()"
   ]
  },
  {
   "cell_type": "markdown",
   "id": "9a0a2c42-38fb-444b-9dd7-2b2d578abab1",
   "metadata": {},
   "source": [
    "# V3"
   ]
  },
  {
   "cell_type": "code",
   "execution_count": null,
   "id": "18734d40-16f6-44dd-8beb-cf49bd29814d",
   "metadata": {},
   "outputs": [],
   "source": [
    "def create_rdd(line):\n",
    "    numbers = line.split(\" \")\n",
    "    for number in enumerate(numbers):"
   ]
  },
  {
   "cell_type": "code",
   "execution_count": 71,
   "id": "8bf052c8-dc48-407d-95e1-f8751baefc83",
   "metadata": {},
   "outputs": [],
   "source": [
    "v3_rdd = data_rdd.flatMap(lambda line: float(line.split(\" \")[3]))"
   ]
  },
  {
   "cell_type": "code",
   "execution_count": 72,
   "id": "6cd865ef-9dcd-4db5-89f9-66a539f638c0",
   "metadata": {},
   "outputs": [
    {
     "data": {
      "text/plain": [
       "[8377.0, 29632.0, 107392.0, 188032.0, 261472.0]"
      ]
     },
     "execution_count": 72,
     "metadata": {},
     "output_type": "execute_result"
    }
   ],
   "source": [
    "v3_rdd.take(5)"
   ]
  },
  {
   "cell_type": "code",
   "execution_count": null,
   "id": "8db5359a-5ceb-44ce-8953-c6044ff52f03",
   "metadata": {},
   "outputs": [],
   "source": []
  }
 ],
 "metadata": {
  "kernelspec": {
   "display_name": "Python 3 (ipykernel)",
   "language": "python",
   "name": "python3"
  },
  "language_info": {
   "codemirror_mode": {
    "name": "ipython",
    "version": 3
   },
   "file_extension": ".py",
   "mimetype": "text/x-python",
   "name": "python",
   "nbconvert_exporter": "python",
   "pygments_lexer": "ipython3",
   "version": "3.7.10"
  }
 },
 "nbformat": 4,
 "nbformat_minor": 5
}
